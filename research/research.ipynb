{
 "cells": [
  {
   "cell_type": "code",
   "execution_count": 1,
   "metadata": {},
   "outputs": [
    {
     "data": {
      "text/plain": [
       "'d:\\\\Programming\\\\ResumeScreening'"
      ]
     },
     "execution_count": 1,
     "metadata": {},
     "output_type": "execute_result"
    }
   ],
   "source": [
    "import os\n",
    "os.chdir('../')\n",
    "%pwd"
   ]
  },
  {
   "cell_type": "code",
   "execution_count": 6,
   "metadata": {},
   "outputs": [],
   "source": [
    "from dataclasses import dataclass\n",
    "from pathlib import Path\n",
    "\n",
    "@dataclass\n",
    "class ModelPipelineConfig:\n",
    "    root_dir: Path\n",
    "    model_name: str"
   ]
  },
  {
   "cell_type": "code",
   "execution_count": 5,
   "metadata": {},
   "outputs": [],
   "source": [
    "from src.resumeScreening import logger\n",
    "from src.resumeScreening.utils.common import read_yaml, create_directories\n",
    "from src.resumeScreening.constants import *"
   ]
  },
  {
   "cell_type": "code",
   "execution_count": null,
   "metadata": {},
   "outputs": [],
   "source": [
    "class ConfigurationManager:\n",
    "    def __init__(self, config_path=CONFIG_FILE_PATH,\n",
    "                 params_path=PARAMS_FILE_PATH):\n",
    "        self.config=read_yaml(config_path)\n",
    "        self.params=read_yaml(params_path)\n",
    "\n",
    "        create_directories([self.config.artifacts_root])\n",
    "    \n",
    "    def get_model_pipeline_config(self)->ModelPipelineConfig:\n",
    "        config = self.config.model\n",
    "        create_directories([config.root_dir])\n",
    "\n",
    "        model_pipeline_config = ModelPipelineConfig(\n",
    "            root_dir=config.root_dir,\n",
    "            model_name=config.model_name\n",
    "        )\n",
    "        return model_pipeline_config\n",
    "    \n",
    "    def get_agent_pipeline_config(self)->AgentPipelineConfig:\n",
    "        config = self.config.agent\n",
    "        create_directories([config.root_dir])\n",
    "\n",
    "        if not os.path.exists(config.career_instructions_path):\n",
    "            pass\n",
    "        if not os.path.exists(config.resume_instructions_path):\n",
    "            pass\n",
    "        agent_pipeline_config = AgentPipelineConfig(\n",
    "            root_dir=config.root_dir,\n",
    "            career_instructions_path= config.career_instructions_path,\n",
    "            resume_instructions_path= config.resume_instructions_path\n",
    "        )\n",
    "        return agent_pipeline_config"
   ]
  },
  {
   "cell_type": "code",
   "execution_count": 8,
   "metadata": {},
   "outputs": [],
   "source": [
    "from dataclasses import dataclass\n",
    "from pathlib import Path\n",
    "\n",
    "@dataclass\n",
    "class AgentPipelineConfig:\n",
    "    root_dir: Path\n",
    "    career_instructions_path: Path\n",
    "    resume_instructions_path: Path"
   ]
  },
  {
   "cell_type": "code",
   "execution_count": null,
   "metadata": {},
   "outputs": [],
   "source": []
  }
 ],
 "metadata": {
  "kernelspec": {
   "display_name": "Python 3",
   "language": "python",
   "name": "python3"
  },
  "language_info": {
   "codemirror_mode": {
    "name": "ipython",
    "version": 3
   },
   "file_extension": ".py",
   "mimetype": "text/x-python",
   "name": "python",
   "nbconvert_exporter": "python",
   "pygments_lexer": "ipython3",
   "version": "3.13.0"
  }
 },
 "nbformat": 4,
 "nbformat_minor": 2
}
