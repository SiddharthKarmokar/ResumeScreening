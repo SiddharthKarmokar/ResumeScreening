{
 "cells": [
  {
   "cell_type": "code",
   "execution_count": null,
   "metadata": {},
   "outputs": [],
   "source": [
    "from transformers import pipeline"
   ]
  },
  {
   "cell_type": "code",
   "execution_count": null,
   "metadata": {},
   "outputs": [],
   "source": [
    "def predict(content:str):\n",
    "    messages = [\n",
    "        {\"role\": \"user\", \"content\": content},\n",
    "    ]\n",
    "    pipe = pipeline(\"text-generation\", model=\"NousResearch/DeepHermes-3-Llama-3-8B-Preview\")\n",
    "    res = pipe(messages)\n",
    "    print(res)\n",
    "    return res "
   ]
  },
  {
   "cell_type": "code",
   "execution_count": 3,
   "metadata": {},
   "outputs": [],
   "source": [
    "from fastapi import FastAPI\n",
    "import uvicorn\n",
    "import sys\n",
    "import os\n",
    "from fastapi.templating import Jinja2Templates\n",
    "from starlette.responses import RedirectResponse\n",
    "from fastapi.responses import Response"
   ]
  },
  {
   "cell_type": "code",
   "execution_count": null,
   "metadata": {},
   "outputs": [],
   "source": [
    "app = FastAPI()\n",
    "@app.get(\"/\", tags=[\"authentication\"])\n",
    "async def index():\n",
    "    return RedirectResponse(url=\"/docs\")\n",
    "\n",
    "@app.post(\"/predict\")\n",
    "async def predict_route(text):\n",
    "    try:\n",
    "        text = predict(text)\n",
    "        return text\n",
    "    except Exception as e: \n",
    "        raise e"
   ]
  }
 ],
 "metadata": {
  "kernelspec": {
   "display_name": "Python 3",
   "language": "python",
   "name": "python3"
  },
  "language_info": {
   "codemirror_mode": {
    "name": "ipython",
    "version": 3
   },
   "file_extension": ".py",
   "mimetype": "text/x-python",
   "name": "python",
   "nbconvert_exporter": "python",
   "pygments_lexer": "ipython3",
   "version": "3.13.0"
  }
 },
 "nbformat": 4,
 "nbformat_minor": 2
}
